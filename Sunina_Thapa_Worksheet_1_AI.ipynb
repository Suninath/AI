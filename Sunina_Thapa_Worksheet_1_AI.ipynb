{
  "nbformat": 4,
  "nbformat_minor": 0,
  "metadata": {
    "colab": {
      "provenance": []
    },
    "kernelspec": {
      "name": "python3",
      "display_name": "Python 3"
    },
    "language_info": {
      "name": "python"
    }
  },
  "cells": [
    {
      "cell_type": "markdown",
      "source": [
        "Sunina Thapa\n"
      ],
      "metadata": {
        "id": "G34rRrHjgznq"
      }
    },
    {
      "cell_type": "markdown",
      "source": [
        "Basic Vector and Matrix Operation with Numpy.\n",
        "Problem - 1: Array Creation:\n",
        "Complete the following Tasks:\n",
        "1. Initialize an empty array with size 2X2."
      ],
      "metadata": {
        "id": "lJ5KahfsXLYM"
      }
    },
    {
      "cell_type": "code",
      "execution_count": null,
      "metadata": {
        "colab": {
          "base_uri": "https://localhost:8080/"
        },
        "id": "1UBBnv1GVRWI",
        "outputId": "2be7faef-1d30-4535-afa4-4abade5d723a"
      },
      "outputs": [
        {
          "output_type": "stream",
          "name": "stdout",
          "text": [
            "[[0. 0.]\n",
            " [0. 0.]]\n"
          ]
        }
      ],
      "source": [
        "import numpy as np\n",
        "\n",
        "array = np.zeros((2, 2))\n",
        "print(array)\n"
      ]
    },
    {
      "cell_type": "markdown",
      "source": [
        "2. Initialize an all one array with size 4X2."
      ],
      "metadata": {
        "id": "oxBe14h5XvKC"
      }
    },
    {
      "cell_type": "code",
      "source": [
        "array = np.ones((4, 2))\n",
        "print(array)\n"
      ],
      "metadata": {
        "colab": {
          "base_uri": "https://localhost:8080/"
        },
        "id": "Mc9gNz2GXZIO",
        "outputId": "b40a28af-dffa-4ca2-be13-2f0aa9430614"
      },
      "execution_count": null,
      "outputs": [
        {
          "output_type": "stream",
          "name": "stdout",
          "text": [
            "[[1. 1.]\n",
            " [1. 1.]\n",
            " [1. 1.]\n",
            " [1. 1.]]\n"
          ]
        }
      ]
    },
    {
      "cell_type": "markdown",
      "source": [
        "3. Return a new array of given shape and type, filled with fill value.{Hint: np.full}"
      ],
      "metadata": {
        "id": "I0W3d6pSYKMP"
      }
    },
    {
      "cell_type": "code",
      "source": [
        "shape = (3, 3)\n",
        "fill_value = 7\n",
        "dtype = int\n",
        "\n",
        "array = np.full(shape, fill_value, dtype=dtype)\n",
        "print(array)\n"
      ],
      "metadata": {
        "colab": {
          "base_uri": "https://localhost:8080/"
        },
        "id": "PZTE03D1YhOC",
        "outputId": "2fcccc36-9069-428a-935c-7f6c9fca36db"
      },
      "execution_count": null,
      "outputs": [
        {
          "output_type": "stream",
          "name": "stdout",
          "text": [
            "[[7 7 7]\n",
            " [7 7 7]\n",
            " [7 7 7]]\n"
          ]
        }
      ]
    },
    {
      "cell_type": "markdown",
      "source": [
        "4. Return a new array of zeros with same shape and type as a given array.{Hint: np.zeros like}"
      ],
      "metadata": {
        "id": "QL_rai6DZJwo"
      }
    },
    {
      "cell_type": "code",
      "source": [
        "given_array = np.array([[4, 5, 6], [7, 8, 9]])\n",
        "\n",
        "zero_array = np.zeros_like(given_array)\n",
        "print(zero_array)\n"
      ],
      "metadata": {
        "colab": {
          "base_uri": "https://localhost:8080/"
        },
        "id": "6i6rRs1zaLNO",
        "outputId": "5f9c21d1-97cc-44d5-ad88-cbfde7c17c99"
      },
      "execution_count": null,
      "outputs": [
        {
          "output_type": "stream",
          "name": "stdout",
          "text": [
            "[[0 0 0]\n",
            " [0 0 0]]\n"
          ]
        }
      ]
    },
    {
      "cell_type": "markdown",
      "source": [
        "5. Return a new array of ones with same shape and type as a given array.{Hint: np.ones like}"
      ],
      "metadata": {
        "id": "ZQTKdmwgbMWX"
      }
    },
    {
      "cell_type": "code",
      "source": [
        "given_array = np.array([[2,3,4], [5,6,7]])\n",
        "one_array = np.ones_like(given_array)\n",
        "print(one_array)\n"
      ],
      "metadata": {
        "colab": {
          "base_uri": "https://localhost:8080/"
        },
        "id": "ngnQ-dgIb-5c",
        "outputId": "be6964b2-a74d-44b2-8a83-2b459581482b"
      },
      "execution_count": null,
      "outputs": [
        {
          "output_type": "stream",
          "name": "stdout",
          "text": [
            "[[1 1 1]\n",
            " [1 1 1]]\n"
          ]
        }
      ]
    },
    {
      "cell_type": "markdown",
      "source": [
        "6. For an existing list new_list = [1,2,3,4] convert to an numpy array.{Hint: np.array()}"
      ],
      "metadata": {
        "id": "sHWbCsUZeJtg"
      }
    },
    {
      "cell_type": "code",
      "source": [
        "import numpy as np\n",
        "\n",
        "new_list = [1,2,3,4]\n",
        "new_array = np.array(new_list)\n",
        "print(new_array)"
      ],
      "metadata": {
        "colab": {
          "base_uri": "https://localhost:8080/"
        },
        "id": "lkPKg-7sddHp",
        "outputId": "c2e7bace-8f8e-4ced-a5e9-163e7db632cd"
      },
      "execution_count": null,
      "outputs": [
        {
          "output_type": "stream",
          "name": "stdout",
          "text": [
            "[1 2 3 4]\n"
          ]
        }
      ]
    },
    {
      "cell_type": "markdown",
      "source": [
        " Problem- 2: Array Manipulation: Numerical Ranges and Array indexing:\n",
        " Complete the following tasks:\n",
        " 1. Create an array with values ranging from 10 to 49. {Hint:np.arrange()}."
      ],
      "metadata": {
        "id": "p-S712Bjfg0D"
      }
    },
    {
      "cell_type": "code",
      "source": [
        "import numpy as np\n",
        "\n",
        "#an array with values from 10 to 49\n",
        "array = np.arange(10, 49)\n",
        "print(array)\n"
      ],
      "metadata": {
        "colab": {
          "base_uri": "https://localhost:8080/"
        },
        "id": "Tf-VjxD8OTT_",
        "outputId": "3fd36b49-9dbd-4730-c8d9-a73400687211"
      },
      "execution_count": null,
      "outputs": [
        {
          "output_type": "stream",
          "name": "stdout",
          "text": [
            "[10 11 12 13 14 15 16 17 18 19 20 21 22 23 24 25 26 27 28 29 30 31 32 33\n",
            " 34 35 36 37 38 39 40 41 42 43 44 45 46 47 48]\n"
          ]
        }
      ]
    },
    {
      "cell_type": "markdown",
      "source": [
        " 2. Create a 3X3 matrix with values ranging from 0 to 8.\n",
        " {Hint:look for np.reshape()}"
      ],
      "metadata": {
        "id": "jat_96u-edji"
      }
    },
    {
      "cell_type": "code",
      "source": [
        "import numpy as np\n",
        "\n",
        "# 3x3 matrix with values from 0 to 8\n",
        "matrix = np.arange(9).reshape(3, 3)\n",
        "print(matrix)\n"
      ],
      "metadata": {
        "colab": {
          "base_uri": "https://localhost:8080/"
        },
        "id": "ZuphbT7SerBB",
        "outputId": "18e4cd77-84ff-4541-a185-ebeda0b873e9"
      },
      "execution_count": null,
      "outputs": [
        {
          "output_type": "stream",
          "name": "stdout",
          "text": [
            "[[0 1 2]\n",
            " [3 4 5]\n",
            " [6 7 8]]\n"
          ]
        }
      ]
    },
    {
      "cell_type": "markdown",
      "source": [
        " 3. Create a 3X3 identity matrix.{Hint:np.eye()}"
      ],
      "metadata": {
        "id": "dz2sx_l2e1-f"
      }
    },
    {
      "cell_type": "code",
      "source": [
        "import numpy as np\n",
        "\n",
        "#a 3x3 identity matrix\n",
        "identity_matrix = np.eye(3)\n",
        "print(identity_matrix)\n"
      ],
      "metadata": {
        "colab": {
          "base_uri": "https://localhost:8080/"
        },
        "id": "wXUThyTTe6WK",
        "outputId": "07d949db-38ad-4005-90f2-af25ef635ee3"
      },
      "execution_count": null,
      "outputs": [
        {
          "output_type": "stream",
          "name": "stdout",
          "text": [
            "[[1. 0. 0.]\n",
            " [0. 1. 0.]\n",
            " [0. 0. 1.]]\n"
          ]
        }
      ]
    },
    {
      "cell_type": "markdown",
      "source": [
        " 4. Create a random array of size 30 and find the mean of the array.\n",
        " {Hint:check for np.random.random() and array.mean() function}"
      ],
      "metadata": {
        "id": "gMXbVpf2fMlb"
      }
    },
    {
      "cell_type": "code",
      "source": [
        "import numpy as np\n",
        "\n",
        "random_array = np.random.random(30)\n",
        "mean_of_array = random_array.mean()\n",
        "print(mean_of_array)\n"
      ],
      "metadata": {
        "colab": {
          "base_uri": "https://localhost:8080/"
        },
        "id": "BNWUqeAHfNmG",
        "outputId": "5622ba79-4f57-4306-842d-af7ed7667d8c"
      },
      "execution_count": null,
      "outputs": [
        {
          "output_type": "stream",
          "name": "stdout",
          "text": [
            "0.41610318322566575\n"
          ]
        }
      ]
    },
    {
      "cell_type": "markdown",
      "source": [
        " 5. Create a 10X10 array with random values and find the minimum and maximum values."
      ],
      "metadata": {
        "id": "FBLEhMXcf5aZ"
      }
    },
    {
      "cell_type": "code",
      "source": [
        "import numpy as np\n",
        "\n",
        "random_array = np.random.random(100).reshape((10,10))\n",
        "max_of_array = random_array.max()\n",
        "min_of_array = random_array.min()\n",
        "print(random_array)\n",
        "print(max_of_array)\n",
        "print(min_of_array)\n"
      ],
      "metadata": {
        "colab": {
          "base_uri": "https://localhost:8080/"
        },
        "id": "UlpCG2sOf-u0",
        "outputId": "07ac9370-2efb-4bd5-dee5-56de0fd5210a"
      },
      "execution_count": null,
      "outputs": [
        {
          "output_type": "stream",
          "name": "stdout",
          "text": [
            "[[0.09569609 0.24963979 0.06979898 0.04649845 0.19990304 0.78600196\n",
            "  0.1687861  0.75111106 0.88527761 0.40724141]\n",
            " [0.7776883  0.63617023 0.70924225 0.81055084 0.17147907 0.78757446\n",
            "  0.87918185 0.16822377 0.96223288 0.59854674]\n",
            " [0.74587055 0.95368152 0.47574858 0.29215756 0.1561531  0.11776143\n",
            "  0.95371876 0.17253992 0.66750128 0.80849859]\n",
            " [0.07016224 0.37364007 0.85519281 0.36868746 0.09652593 0.72891519\n",
            "  0.62949758 0.15990284 0.11732166 0.50743059]\n",
            " [0.35383617 0.24821475 0.61782379 0.64823043 0.15191466 0.20471284\n",
            "  0.73250043 0.19619833 0.29406861 0.06654185]\n",
            " [0.89160087 0.84986556 0.11854706 0.85120242 0.79129302 0.7448937\n",
            "  0.72856687 0.37862679 0.80174595 0.67232163]\n",
            " [0.92890169 0.03298695 0.01854677 0.3102064  0.68896386 0.03359486\n",
            "  0.07766016 0.54084466 0.52166538 0.15109678]\n",
            " [0.51146752 0.67028161 0.55096014 0.44541187 0.51664556 0.18894021\n",
            "  0.05272137 0.10387937 0.77662549 0.23696798]\n",
            " [0.34634915 0.97887167 0.52984197 0.5234161  0.75424653 0.64986288\n",
            "  0.03732002 0.50110124 0.24128886 0.7588469 ]\n",
            " [0.53111076 0.62952245 0.52002391 0.68111277 0.33386893 0.96432816\n",
            "  0.13385342 0.12954219 0.33813408 0.21505916]]\n",
            "0.9788716661228148\n",
            "0.018546770591032935\n"
          ]
        }
      ]
    },
    {
      "cell_type": "markdown",
      "source": [
        " 6. Create a zero array of size 10 and replace 5th element with 1."
      ],
      "metadata": {
        "id": "yWivH340gYHG"
      }
    },
    {
      "cell_type": "code",
      "source": [
        "import numpy as np\n",
        "\n",
        "#a zero array of size 10\n",
        "zero_array = np.zeros(10)\n",
        "\n",
        "# Replace the 5th element with 1\n",
        "zero_array[4] = 1\n",
        "\n",
        "print(\"Modified Array:\", zero_array)"
      ],
      "metadata": {
        "colab": {
          "base_uri": "https://localhost:8080/"
        },
        "id": "xH2FiD1egft_",
        "outputId": "fd795cc0-d713-4e82-ba99-37dd8a1e7916"
      },
      "execution_count": null,
      "outputs": [
        {
          "output_type": "stream",
          "name": "stdout",
          "text": [
            "Modified Array: [0. 0. 0. 0. 1. 0. 0. 0. 0. 0.]\n"
          ]
        }
      ]
    },
    {
      "cell_type": "markdown",
      "source": [
        " 7. Reverse an array arr = [1,2,0,0,4,0]."
      ],
      "metadata": {
        "id": "RgybIN3sg2Qg"
      }
    },
    {
      "cell_type": "code",
      "source": [
        "import numpy as np\n",
        "\n",
        " #given arr\n",
        "arr = np.array([1, 2, 0, 0, 4, 0])\n",
        "\n",
        "# Reversing the array\n",
        "reversed_arr = arr[::-1]\n",
        "\n",
        "print(\"Original Array:\", arr)\n",
        "print(\"Reversed Array:\", reversed_arr)\n"
      ],
      "metadata": {
        "colab": {
          "base_uri": "https://localhost:8080/"
        },
        "id": "KsiKx86Rg6zV",
        "outputId": "690532c9-d24d-432f-ac5f-e1c8c1d471bd"
      },
      "execution_count": null,
      "outputs": [
        {
          "output_type": "stream",
          "name": "stdout",
          "text": [
            "Original Array: [1 2 0 0 4 0]\n",
            "Reversed Array: [0 4 0 0 2 1]\n"
          ]
        }
      ]
    },
    {
      "cell_type": "markdown",
      "source": [
        " 8. Create a 2d array with 1 on border and 0 inside."
      ],
      "metadata": {
        "id": "DKlgUK_hhff5"
      }
    },
    {
      "cell_type": "code",
      "source": [
        "import numpy as np\n",
        "\n",
        "rows, cols = 5, 5\n",
        "# Creating 2d array with 1\n",
        "array = np.zeros((rows, cols))\n",
        "\n",
        "# Set the border elements to 1\n",
        "array[0, :] = 1\n",
        "array[-1, :] = 1\n",
        "array[:, 0] = 1\n",
        "array[:, -1] = 1\n",
        "print(\"2D Array with Border of 1 and Inside 0:\\n\", array)\n"
      ],
      "metadata": {
        "colab": {
          "base_uri": "https://localhost:8080/"
        },
        "id": "dzqyv1d8hjEY",
        "outputId": "83e76d86-dad5-497f-fb2f-bdf1adc140bc"
      },
      "execution_count": null,
      "outputs": [
        {
          "output_type": "stream",
          "name": "stdout",
          "text": [
            "2D Array with Border of 1 and Inside 0:\n",
            " [[1. 1. 1. 1. 1.]\n",
            " [1. 0. 0. 0. 1.]\n",
            " [1. 0. 0. 0. 1.]\n",
            " [1. 0. 0. 0. 1.]\n",
            " [1. 1. 1. 1. 1.]]\n"
          ]
        }
      ]
    },
    {
      "cell_type": "markdown",
      "source": [
        " 9. Create a 8X8 matrix and fill it with a checkerboard pattern"
      ],
      "metadata": {
        "id": "341SOVxgiOgu"
      }
    },
    {
      "cell_type": "code",
      "source": [
        "import numpy as np\n",
        "\n",
        "checkerboard = np.zeros((8, 8))\n",
        "checkerboard[::2, ::2] = 1\n",
        "checkerboard[::2, 1::2] = 1\n",
        "checkerboard[1::2, ::2] = 1\n",
        "checkerboard[1::2, 1::2] = 0\n",
        "print(checkerboard)\n",
        "\n"
      ],
      "metadata": {
        "colab": {
          "base_uri": "https://localhost:8080/"
        },
        "id": "DefSl1DjiPkB",
        "outputId": "d1e7b178-757f-4a01-ec71-b785c1332cf9"
      },
      "execution_count": null,
      "outputs": [
        {
          "output_type": "stream",
          "name": "stdout",
          "text": [
            "[[1. 1. 1. 1. 1. 1. 1. 1.]\n",
            " [1. 0. 1. 0. 1. 0. 1. 0.]\n",
            " [1. 1. 1. 1. 1. 1. 1. 1.]\n",
            " [1. 0. 1. 0. 1. 0. 1. 0.]\n",
            " [1. 1. 1. 1. 1. 1. 1. 1.]\n",
            " [1. 0. 1. 0. 1. 0. 1. 0.]\n",
            " [1. 1. 1. 1. 1. 1. 1. 1.]\n",
            " [1. 0. 1. 0. 1. 0. 1. 0.]]\n"
          ]
        }
      ]
    },
    {
      "cell_type": "markdown",
      "source": [
        "Problem - 3: Array Operations:\n",
        "For the following arrays:\n",
        "x = np.array([[1,2],[3,5]]) and y = np.array([[5,6],[7,8]]);\n",
        "v = np.array([9,10]) and w = np.array([11,12]);\n",
        "Complete all the task using numpy:\n",
        "1. Add the two array."
      ],
      "metadata": {
        "id": "8Jc_GyFJ_6tV"
      }
    },
    {
      "cell_type": "code",
      "source": [
        "import numpy as np\n",
        "\n",
        "x = np.array([[1, 2], [3, 5]])\n",
        "y = np.array([[5, 6], [7, 8]])\n",
        "\n",
        "result = x + y\n",
        "\n",
        "print(\"Array x:\\n\", x)\n",
        "print(\"Array y:\\n\", y)\n",
        "print(\"Sum of x and y:\\n\", result)\n"
      ],
      "metadata": {
        "colab": {
          "base_uri": "https://localhost:8080/"
        },
        "id": "P2NFFJI__7jn",
        "outputId": "17f33776-98cc-4af9-83d1-b9889f5d6a44"
      },
      "execution_count": null,
      "outputs": [
        {
          "output_type": "stream",
          "name": "stdout",
          "text": [
            "Array x:\n",
            " [[1 2]\n",
            " [3 5]]\n",
            "Array y:\n",
            " [[5 6]\n",
            " [7 8]]\n",
            "Sum of x and y:\n",
            " [[ 6  8]\n",
            " [10 13]]\n"
          ]
        }
      ]
    },
    {
      "cell_type": "markdown",
      "source": [
        "2. Subtract the two array."
      ],
      "metadata": {
        "id": "v3NVGdyYATTv"
      }
    },
    {
      "cell_type": "code",
      "source": [
        "import numpy as np\n",
        "\n",
        "x = np.array([[1, 2], [3, 5]])\n",
        "y = np.array([[5, 6], [7, 8]])\n",
        "\n",
        "result = x - y\n",
        "\n",
        "print(\"Array x:\\n\", x)\n",
        "print(\"Array y:\\n\", y)\n",
        "print(\"Difference of x and y:\\n\", result)\n"
      ],
      "metadata": {
        "colab": {
          "base_uri": "https://localhost:8080/"
        },
        "id": "qwBmW3gAAYCO",
        "outputId": "ff5288e4-6d1f-4eb4-93b7-e0f872bfe30c"
      },
      "execution_count": null,
      "outputs": [
        {
          "output_type": "stream",
          "name": "stdout",
          "text": [
            "Array x:\n",
            " [[1 2]\n",
            " [3 5]]\n",
            "Array y:\n",
            " [[5 6]\n",
            " [7 8]]\n",
            "Difference of x and y:\n",
            " [[-4 -4]\n",
            " [-4 -3]]\n"
          ]
        }
      ]
    },
    {
      "cell_type": "markdown",
      "source": [
        "3. Multiply the array with any integers of your choice."
      ],
      "metadata": {
        "id": "oVYUvIwBA2uO"
      }
    },
    {
      "cell_type": "code",
      "source": [
        "import numpy as np\n",
        "\n",
        "x = np.array([[1, 2], [3, 5]])\n",
        "\n",
        "result = x * 3\n",
        "\n",
        "print(\"Array x:\\n\", x)\n",
        "print(\"Array x multiplied by 3:\\n\", result)\n"
      ],
      "metadata": {
        "colab": {
          "base_uri": "https://localhost:8080/"
        },
        "id": "7Fc4unoyA8x6",
        "outputId": "1ef5aed1-dfe9-4d75-8abe-748bc6019d51"
      },
      "execution_count": null,
      "outputs": [
        {
          "output_type": "stream",
          "name": "stdout",
          "text": [
            "Array x:\n",
            " [[1 2]\n",
            " [3 5]]\n",
            "Array x multiplied by 3:\n",
            " [[ 3  6]\n",
            " [ 9 15]]\n"
          ]
        }
      ]
    },
    {
      "cell_type": "markdown",
      "source": [
        "5. Find the dot product between: v(and)w ; x(and)v ; x(and)y."
      ],
      "metadata": {
        "id": "wylAhMaACU_l"
      }
    },
    {
      "cell_type": "code",
      "source": [
        "import numpy as np\n",
        "\n",
        "x = np.array([[1, 2], [3, 5]])\n",
        "y = np.array([[5, 6], [7, 8]])\n",
        "v = np.array([9, 10])\n",
        "w = np.array([11, 12])\n",
        "\n",
        "dot_v_w = np.dot(v, w)\n",
        "dot_x_v = np.dot(x, v)\n",
        "dot_x_y = np.dot(x, y)\n",
        "\n",
        "print(\"Dot product of v and w:\", dot_v_w)\n",
        "print(\"Dot product of x and v:\\n\", dot_x_v)\n",
        "print(\"Dot product of x and y:\\n\", dot_x_y)\n"
      ],
      "metadata": {
        "colab": {
          "base_uri": "https://localhost:8080/"
        },
        "id": "_MgSlX0WCefN",
        "outputId": "9c9c157c-4ba4-4a13-a2b1-92079651c561"
      },
      "execution_count": null,
      "outputs": [
        {
          "output_type": "stream",
          "name": "stdout",
          "text": [
            "Dot product of v and w: 219\n",
            "Dot product of x and v:\n",
            " [29 77]\n",
            "Dot product of x and y:\n",
            " [[19 22]\n",
            " [50 58]]\n"
          ]
        }
      ]
    },
    {
      "cell_type": "markdown",
      "source": [
        "6. Concatenate x(and)y along row and Concatenate v(and)w along column.\n",
        "{Hint:try np.concatenate() or np.vstack() functions."
      ],
      "metadata": {
        "id": "m7phd1CbC3GM"
      }
    },
    {
      "cell_type": "code",
      "source": [
        "import numpy as np\n",
        "\n",
        "# Define the arrays\n",
        "x = np.array([[1, 2], [3, 5]])\n",
        "y = np.array([[5, 6], [7, 8]])\n",
        "v = np.array([9, 10])\n",
        "w = np.array([11, 12])\n",
        "\n",
        "# Concatenate x and y along the row\n",
        "xy_concatenated = np.concatenate((x, y), axis=0)\n",
        "\n",
        "# Concatenate v and w along the column\n",
        "vw_concatenated = np.column_stack((v, w))\n",
        "\n",
        "print(\"Concatenated x and y along row:\")\n",
        "print(xy_concatenated)\n",
        "\n",
        "print(\"\\nConcatenated v and w along column:\")\n",
        "print(vw_concatenated)\n"
      ],
      "metadata": {
        "colab": {
          "base_uri": "https://localhost:8080/"
        },
        "id": "8Zr-0jOzC766",
        "outputId": "a9f00fea-18bd-4130-a892-67f11bef734e"
      },
      "execution_count": null,
      "outputs": [
        {
          "output_type": "stream",
          "name": "stdout",
          "text": [
            "Concatenated x and y along row:\n",
            "[[1 2]\n",
            " [3 5]\n",
            " [5 6]\n",
            " [7 8]]\n",
            "\n",
            "Concatenated v and w along column:\n",
            "[[ 9 11]\n",
            " [10 12]]\n"
          ]
        }
      ]
    },
    {
      "cell_type": "markdown",
      "source": [
        " 7. Concatenate x(and)v; if you get an error, observe and explain why did you get the error?"
      ],
      "metadata": {
        "id": "tEhm6L2UrZPR"
      }
    },
    {
      "cell_type": "code",
      "source": [
        "import numpy as np\n",
        "\n",
        "x = np.array([[1, 2], [3, 5]])\n",
        "v = np.array([9, 10])\n",
        "\n",
        "# Attempt to concatenate x and v along rows (axis=0)\n",
        "try:\n",
        "    result = np.concatenate((x, v), axis=0)\n",
        "    print(\"Concatenated x and v along row:\")\n",
        "    print(result)\n",
        "except ValueError as e:\n",
        "    print(f\"Error: {e}\")\n"
      ],
      "metadata": {
        "colab": {
          "base_uri": "https://localhost:8080/"
        },
        "id": "4NRYitLrriZ3",
        "outputId": "c467cfce-9bfe-4ced-eb83-3252beb0ad2e"
      },
      "execution_count": null,
      "outputs": [
        {
          "output_type": "stream",
          "name": "stdout",
          "text": [
            "Error: all the input arrays must have same number of dimensions, but the array at index 0 has 2 dimension(s) and the array at index 1 has 1 dimension(s)\n"
          ]
        }
      ]
    },
    {
      "cell_type": "markdown",
      "source": [
        "When using np.concatenate, the arrays must have the same dimensions along all axes except the axis being concatenated. Here, x has two dimensions, but v has only one, so their shapes are incompatible for concatenation."
      ],
      "metadata": {
        "id": "JUkzJE0gr1y1"
      }
    },
    {
      "cell_type": "markdown",
      "source": [
        " Problem- 4: Matrix Operations:\n",
        " • For the following arrays:\n",
        " A = np.array([[3,4],[7,8]]) and B = np.array([[5,3],[2,1]]);\n",
        " Prove following with Numpy:\n",
        " 1. Prove A.A−1 = I.\n",
        " 2. Prove AB= BA.\n",
        " 3. Prove (AB)T = BTAT"
      ],
      "metadata": {
        "id": "V5LLtThtr87o"
      }
    },
    {
      "cell_type": "code",
      "source": [
        "import numpy as np\n",
        "\n",
        "A = np.array([[3, 4], [7, 8]])\n",
        "\n",
        "# Compute inverse of A\n",
        "A_inv = np.linalg.inv(A)\n",
        "\n",
        "# Multiply A and A_inv\n",
        "result = np.dot(A, A_inv)\n",
        "\n",
        "# Identity matrix (2x2)\n",
        "I = np.eye(2)\n",
        "\n",
        "# Check result\n",
        "print(\"A * A^-1:\")\n",
        "print(result)\n",
        "print(\"\\nIs A * A^-1 equal to I?\", np.allclose(result, I))\n"
      ],
      "metadata": {
        "colab": {
          "base_uri": "https://localhost:8080/"
        },
        "id": "-KHKaI-nsGNv",
        "outputId": "684a4f67-9eb6-4a1d-be22-9d223140ddf8"
      },
      "execution_count": null,
      "outputs": [
        {
          "output_type": "stream",
          "name": "stdout",
          "text": [
            "A * A^-1:\n",
            "[[1.00000000e+00 0.00000000e+00]\n",
            " [1.77635684e-15 1.00000000e+00]]\n",
            "\n",
            "Is A * A^-1 equal to I? True\n"
          ]
        }
      ]
    },
    {
      "cell_type": "code",
      "source": [
        "A = np.array([[3, 4], [7, 8]])\n",
        "B = np.array([[5, 3], [2, 1]])\n",
        "# Compute AB and BA\n",
        "AB = np.dot(A, B)\n",
        "BA = np.dot(B, A)\n",
        "\n",
        "# Print and compare\n",
        "print(\"AB:\")\n",
        "print(AB)\n",
        "print(\"\\nBA:\")\n",
        "print(BA)\n",
        "print(\"\\nIs AB equal to BA?\", np.array_equal(AB, BA))\n"
      ],
      "metadata": {
        "colab": {
          "base_uri": "https://localhost:8080/"
        },
        "id": "ID3WBIMxsfEG",
        "outputId": "5b4116e4-85c9-450c-89f6-14353c07b37c"
      },
      "execution_count": null,
      "outputs": [
        {
          "output_type": "stream",
          "name": "stdout",
          "text": [
            "AB:\n",
            "[[23 13]\n",
            " [51 29]]\n",
            "\n",
            "BA:\n",
            "[[36 44]\n",
            " [13 16]]\n",
            "\n",
            "Is AB equal to BA? False\n"
          ]
        }
      ]
    },
    {
      "cell_type": "code",
      "source": [
        "# Compute (AB)^T\n",
        "AB_transpose = np.dot(A, B).T\n",
        "\n",
        "# Compute B^T * A^T\n",
        "BT_AT = np.dot(B.T, A.T)\n",
        "\n",
        "# Print and compare\n",
        "print(\"(AB)^T:\")\n",
        "print(AB_transpose)\n",
        "print(\"\\nB^T * A^T:\")\n",
        "print(BT_AT)\n",
        "print(\"\\nIs (AB)^T equal to B^T * A^T?\", np.allclose(AB_transpose, BT_AT))\n"
      ],
      "metadata": {
        "colab": {
          "base_uri": "https://localhost:8080/"
        },
        "id": "AKvVY06As08-",
        "outputId": "6703d2f4-d07d-48f9-8f29-00849cf99fff"
      },
      "execution_count": null,
      "outputs": [
        {
          "output_type": "stream",
          "name": "stdout",
          "text": [
            "(AB)^T:\n",
            "[[23 51]\n",
            " [13 29]]\n",
            "\n",
            "B^T * A^T:\n",
            "[[23 51]\n",
            " [13 29]]\n",
            "\n",
            "Is (AB)^T equal to B^T * A^T? True\n"
          ]
        }
      ]
    },
    {
      "cell_type": "markdown",
      "source": [
        "• Solve the following system of Linear equation using Inverse Methods.\n",
        " 2x −3y+z =−1\n",
        " x −y+2z =−3\n",
        " 3x +y−z =9"
      ],
      "metadata": {
        "id": "ZMP0htd7tCIr"
      }
    },
    {
      "cell_type": "code",
      "source": [
        "import numpy as np\n",
        "A = np.array([[2, -3, 1],\n",
        "              [1, -1, 2],\n",
        "              [3, 1, -1]])\n",
        "B = np.array([-1, -3, 9])\n",
        "\n",
        "# Compute the inverse of A\n",
        "A_inv = np.linalg.inv(A)\n",
        "\n",
        "# Solve for X\n",
        "X = np.dot(A_inv, B)\n",
        "\n",
        "# Display the solution\n",
        "print(\"Solution (x, y, z):\")\n",
        "print(X)\n"
      ],
      "metadata": {
        "colab": {
          "base_uri": "https://localhost:8080/"
        },
        "id": "yg9e3HUUtDTL",
        "outputId": "d48e52cb-b70d-4dd6-cd3d-55052e658569"
      },
      "execution_count": null,
      "outputs": [
        {
          "output_type": "stream",
          "name": "stdout",
          "text": [
            "Solution (x, y, z):\n",
            "[ 2.  1. -2.]\n"
          ]
        }
      ]
    }
  ]
}