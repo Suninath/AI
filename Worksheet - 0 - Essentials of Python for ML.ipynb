{
 "cells": [
  {
   "cell_type": "code",
   "execution_count": 1,
   "id": "bfd3bf33-fd57-4bf6-8e1a-6247a997fbe3",
   "metadata": {},
   "outputs": [],
   "source": [
    "temperatures = [8.2, 17.4, 14.1, 7.9, 18.0, 13.5, 9.0, 17.8, 13.0, 8.5,16.5, 12.9, 7.7, 17.2, 13.3, 8.4, 16.7, 14.0, 9.5, 18.3, 13.4, 8.1,17.9, 14.2, 7.6, 17.0, 12.8, 8.0, 16.8, 13.7, 7.8, 17.5, 13.6, 8.7,17.1, 13.8, 9.2, 18.1, 13.9, 8.3, 16.4, 12.7, 8.9, 18.2, 13.1, 7.8,16.6, 12.5]"
   ]
  },
  {
   "cell_type": "markdown",
   "id": "3bd19ee8-0350-4750-a7a0-9e558391e40d",
   "metadata": {},
   "source": [
    "Complete all the task below:\n",
    "#### Task 1. Classify Temperatures:\n",
    "\n",
    "1. Create empty lists for temperature classifications:\n",
    "    (a) Cold: temperatures below 10°C.\n",
    "    (b)  Mild:  temperatures between 10°C and 15°C.\n",
    "    (c)  Comfortable:  temperatures between 15°C and 20°C.\n"
   ]
  },
  {
   "cell_type": "markdown",
   "id": "c4b5213c-369d-4d7a-a0a4-51d239e38051",
   "metadata": {},
   "source": [
    "2.  Iterate over the temperatures list and add each temperature to the appropriate cate-gory."
   ]
  },
  {
   "cell_type": "markdown",
   "id": "bd87d0c1-4e83-49fd-8dfa-7ff9c28d0f99",
   "metadata": {},
   "source": [
    "3.  Print the lists to verify the classifications."
   ]
  },
  {
   "cell_type": "code",
   "execution_count": 2,
   "id": "5559b411-df39-42a4-b6d9-de5188051bba",
   "metadata": {},
   "outputs": [
    {
     "name": "stdout",
     "output_type": "stream",
     "text": [
      "Cold:  [8.2, 7.9, 9.0, 8.5, 7.7, 8.4, 9.5, 8.1, 7.6, 8.0, 7.8, 8.7, 9.2, 8.3, 8.9, 7.8] \n",
      "Mild:  [14.1, 13.5, 13.0, 12.9, 13.3, 14.0, 13.4, 14.2, 12.8, 13.7, 13.6, 13.8, 13.9, 12.7, 13.1, 12.5] \n",
      "Comfortable:  [17.4, 18.0, 17.8, 16.5, 17.2, 16.7, 18.3, 17.9, 17.0, 16.8, 17.5, 17.1, 18.1, 16.4, 18.2, 16.6]\n"
     ]
    }
   ],
   "source": [
    "cold = [temp for temp in temperatures if temp < 10]\n",
    "mild = [temp for temp in temperatures if temp > 10 and temp < 15]\n",
    "comfortable = [temp for temp in temperatures if temp > 15 and temp < 20]\n",
    "print(\"Cold: \", cold,\"\\nMild: \", mild, \"\\nComfortable: \", comfortable)\n"
   ]
  },
  {
   "cell_type": "markdown",
   "id": "92b7f82e-0f36-4499-950e-2bba2e54ec05",
   "metadata": {},
   "source": [
    "#### Task 2. Based on Data - Answer all the Questions:\n",
    "1.  How many times was it mild?\n",
    "    (a)Hint:  Count the number of items in the mild list and print the result.\n",
    "2.  How many times was it comfortable?\n",
    "3.  How many times was it cold?"
   ]
  },
  {
   "cell_type": "code",
   "execution_count": 3,
   "id": "2fbbd383-74a4-44cf-a083-4458e9fbed7d",
   "metadata": {},
   "outputs": [
    {
     "name": "stdout",
     "output_type": "stream",
     "text": [
      "Mild Count:  16\n",
      "Comfortable Count:  16\n",
      "Cold Count:  16\n"
     ]
    }
   ],
   "source": [
    "mild_count = 0\n",
    "for m_count in mild:\n",
    "    mild_count += 1\n",
    "print(\"Mild Count: \", mild_count)\n",
    "\n",
    "comfortable_count = 0\n",
    "for c_count in comfortable:\n",
    "    comfortable_count += 1\n",
    "print(\"Comfortable Count: \", comfortable_count)\n",
    "\n",
    "cold_count = 0\n",
    "for co_count in cold:\n",
    "    cold_count +=  1\n",
    "print(\"Cold Count: \", cold_count)"
   ]
  },
  {
   "cell_type": "markdown",
   "id": "488f0c91-1ab7-4871-bf7f-b247b059484a",
   "metadata": {},
   "source": [
    "#### Task 3. Convert Temperatures from Celsius to Fahrenheit.\n",
    "Using the formula for temperature conversion, convert each reading from Celsius to Fahren-heit and store it in a new list calledtemperatures_fahrenheit.\n",
    "        Formula:    Fahrenheit= (Celsius×95) + 321\n",
    "    1.  Iterate over the temperatures list and apply the formula to convert each temperature.\n",
    "    2.  Store the results in the new list.\n",
    "    3.  Print the converted Fahrenheit values."
   ]
  },
  {
   "cell_type": "code",
   "execution_count": 4,
   "id": "537d6021-d0ca-42fb-810b-d6e47e7cf557",
   "metadata": {},
   "outputs": [
    {
     "name": "stdout",
     "output_type": "stream",
     "text": [
      "Fahrenheit:  [46.76, 63.32, 57.38, 46.22, 64.4, 56.3, 48.2, 64.04, 55.4, 47.3, 61.7, 55.22, 45.86, 62.96, 55.94, 47.12, 62.06, 57.2, 49.1, 64.94, 56.12, 46.58, 64.22, 57.56, 45.68, 62.6, 55.04, 46.4, 62.24, 56.66, 46.04, 63.5, 56.48, 47.66, 62.78, 56.84, 48.56, 64.58, 57.02, 46.94, 61.52, 54.86, 48.02, 64.76, 55.58, 46.04, 61.88, 54.5]\n"
     ]
    }
   ],
   "source": [
    "fahrenheit_list = []\n",
    "for temp in temperatures:\n",
    "    fahrenheit = (temp * (9/5)) + 32\n",
    "    formated_fahrenheit = round(fahrenheit, 2)\n",
    "    fahrenheit_list.append(formated_fahrenheit)\n",
    "\n",
    "print(\"Fahrenheit: \", fahrenheit_list)"
   ]
  },
  {
   "cell_type": "markdown",
   "id": "62ac1ae6-10ba-45f7-aaa4-e1581e716747",
   "metadata": {},
   "source": [
    "#### Task 4. Analyze Temperature Patterns by Time of Day:\n",
    "Scenario:  Each day’s readings are grouped as:\n",
    "    • Night (00-08),\n",
    "    • Evening (08-16),\n",
    "    • Day (16-24).\n",
    "1. Create empty lists for night, day, and evening temperatures.\n",
    "2. Iterate over the temperatures list, assigning values to each time-of-day list based ontheir position.\n",
    "3. Calculate and print the average day-time temperature.\n",
    "4. (Optional)Plot ”day vs.  temperature” using matplotlib."
   ]
  },
  {
   "cell_type": "code",
   "execution_count": 5,
   "id": "3d6b371c-60c1-4399-98fb-d4253832a03e",
   "metadata": {},
   "outputs": [
    {
     "name": "stdout",
     "output_type": "stream",
     "text": [
      "Night:  [7.9, 7.7, 7.6, 7.8, 7.8] \n",
      "Evening:  [8.2, 14.1, 13.5, 9.0, 13.0, 8.5, 12.9, 13.3, 8.4, 14.0, 9.5, 13.4, 8.1, 14.2, 12.8, 13.7, 13.6, 8.7, 13.8, 9.2, 13.9, 8.3, 12.7, 8.9, 13.1, 12.5] \n",
      "Day:  [17.4, 18.0, 17.8, 16.5, 17.2, 16.7, 18.3, 17.9, 17.0, 16.8, 17.5, 17.1, 18.1, 16.4, 18.2, 16.6]\n"
     ]
    }
   ],
   "source": [
    "night = [night for night in temperatures if night > 0 and night < 8]\n",
    "evening = [evening for evening in temperatures if evening > 8 and evening < 16]\n",
    "day = [day for day in temperatures if day > 16 and day < 24]\n",
    "print(\"Night: \", night ,\"\\nEvening: \", evening, \"\\nDay: \", day)\n"
   ]
  },
  {
   "cell_type": "code",
   "execution_count": 6,
   "id": "84ee3de0-99eb-43bc-9001-e74cd5d0a9c1",
   "metadata": {},
   "outputs": [
    {
     "name": "stdout",
     "output_type": "stream",
     "text": [
      "Average day temperature: 17.34\n"
     ]
    }
   ],
   "source": [
    "day_temp = 0\n",
    "count = 0\n",
    "for temp in day:\n",
    "    day_temp += temp\n",
    "    count += 1\n",
    "average = day_temp/count\n",
    "print(f\"Average day temperature: {average:.2f}\")"
   ]
  },
  {
   "cell_type": "markdown",
   "id": "42df2179-22ad-4307-9d9e-85963d6922b1",
   "metadata": {},
   "source": [
    "#### Task 1 - Sum of Nested Lists:\n",
    "Scenario: You have a list that contains numbers and other lists of numbers (nested lists).\n",
    "You want to find the total sum of all the numbers in this structure.\n",
    "Task:\n",
    "•Write a recursive functionsum_nested_list(nested_list)that:\n",
    "1.  Takes a nested list (a list that can contain numbers or other lists of numbers) asinput.\n",
    "2.  Sums all numbers at every depth level of the list, regardless of how deeply nestedthe numbers are.\n",
    "    •Test the function with a sample nested list, such as\n",
    "    nested_list = [1, [2, [3, 4], 5], 6, [7, 8]].\n",
    "    The result should be the total sum of all the numbers."
   ]
  },
  {
   "cell_type": "code",
   "execution_count": 7,
   "id": "f06ff245-2d08-4e80-90b2-2bd11361534e",
   "metadata": {},
   "outputs": [
    {
     "name": "stdout",
     "output_type": "stream",
     "text": [
      "36\n"
     ]
    }
   ],
   "source": [
    "def sum_nested_list(nested_list):\n",
    "    \"\"\"Calculate the sum of all numbers in a nested list.This function takes a list that may contain integers and other nested lists.It recursively traverses the list and sums all the integers, no matter how deeplynested they are.Args:nested_list (list): A list that may contain integers or other lists of integers.Returns:\n",
    "    int: The total sum of all integers in the nested list, including those in sublists.Example:>>> sum_nested_list([1, [2, [3, 4], 5], 6, [7, 8]])36>>> sum_nested_list([1, [2, 3], [4, [5]]])15\"\"\"\n",
    "    total = 0\n",
    "    for element in nested_list:\n",
    "        if isinstance(element, list):\n",
    "        # Check if the element is a list\n",
    "            total += sum_nested_list(element) # Recursively sum the nested list\n",
    "        else:\n",
    "            total += element # Add the number to the total\n",
    "\n",
    "    return total\n",
    "\n",
    "nested_list = [1, [2, [3, 4], 5], 6, [7, 8]]\n",
    "print(sum_nested_list(nested_list))"
   ]
  },
  {
   "cell_type": "markdown",
   "id": "9e8c9320-183a-4e1c-b7d0-ea12ba2678ea",
   "metadata": {},
   "source": [
    "#### Task 2 - Generate All Permutations of a String:\n",
    "Scenario: Given a string, generate all possible permutations of its characters. This is useful for understanding backtracking and recursive depth-first search.<br>\n",
    "Task:<br>\n",
    "• Write a recursive function generate_permutations(s) that:\n",
    "– Takes a string s as input and returns a list of all unique permutations\n",
    "• Test with strings like ”abc” and ”aab”."
   ]
  },
  {
   "cell_type": "code",
   "execution_count": 8,
   "id": "f7ea1a8d-da24-41fe-8e74-d80ccb55f40d",
   "metadata": {},
   "outputs": [
    {
     "name": "stdout",
     "output_type": "stream",
     "text": [
      "['bac', 'cba', 'cab', 'abc', 'bca', 'acb']\n"
     ]
    }
   ],
   "source": [
    "def generate_permutations(s):\n",
    "    split_list = [new_letter for new_letter in s]\n",
    "    new_list = []\n",
    "    for i in split_list:\n",
    "        for j in split_list:\n",
    "            for k in split_list:\n",
    "                if i == j:\n",
    "                    continue\n",
    "                elif i == k:\n",
    "                    continue\n",
    "                elif j == k:\n",
    "                    continue\n",
    "                else:\n",
    "                    new_list.append(i+j+k)\n",
    "    return list(set(new_list))\n",
    "\n",
    "print(generate_permutations(\"abc\"))\n",
    "# Should return [’abc’, ’acb’, ’bac’, ’bca’, ’cab’, ’cba’]\n"
   ]
  },
  {
   "cell_type": "markdown",
   "id": "8946875f-a006-4d3a-97b2-78826e698344",
   "metadata": {},
   "source": [
    "#### Task 3 - Directory Size Calculation:\n",
    "Directory Size Calculation Scenario: Imagine a file system where directories can contain files\n",
    "(with sizes in KB) and other directories. You want to calculate the total size of a directory,\n",
    "including all nested files and subdirectories."
   ]
  },
  {
   "cell_type": "code",
   "execution_count": 9,
   "id": "8757adb9-ea26-407e-9f66-55d19bc98ac1",
   "metadata": {},
   "outputs": [],
   "source": [
    "directory_structure = {\n",
    "    \"file1.txt\": 200,\n",
    "    \"file2.txt\": 300,\n",
    "    \"subdir1\": {\n",
    "        \"file3.txt\": 400,\n",
    "        \"file4.txt\": 100\n",
    "        },\n",
    "    \"subdir2\": {\n",
    "        \"subsubdir1\": {\n",
    "        \"file5.txt\": 250\n",
    "        },\n",
    "    \"file6.txt\": 150\n",
    "    }\n",
    "}"
   ]
  },
  {
   "cell_type": "markdown",
   "id": "e94a5a5a-06a5-4333-9d46-9a800c2a37ec",
   "metadata": {},
   "source": [
    "Task:\n",
    "1. Write a recursive function calculate_directory_size(directory) where:\n",
    "• directory is a dictionary where keys represent file names (with values as sizes in\n",
    "KB) or directory names (with values as another dictionary representing a subdirectory).\n",
    "• The function should return the total size of the directory, including all nested\n",
    "subdirectories.\n",
    "2. Test the function with a sample directory structure."
   ]
  },
  {
   "cell_type": "code",
   "execution_count": 10,
   "id": "ca5cd91f-00c7-4405-86e6-8efbb7027152",
   "metadata": {},
   "outputs": [
    {
     "data": {
      "text/plain": [
       "1400"
      ]
     },
     "execution_count": 10,
     "metadata": {},
     "output_type": "execute_result"
    }
   ],
   "source": [
    "def calculate_directory_size(directory):\n",
    "    total = 0\n",
    "    for key, value in directory.items():\n",
    "        if isinstance(value, dict):\n",
    "            total += calculate_directory_size(value)\n",
    "        else:\n",
    "            total += int(value)\n",
    "    return total\n",
    "\n",
    "calculate_directory_size(directory_structure)"
   ]
  },
  {
   "cell_type": "code",
   "execution_count": 11,
   "id": "7eb2c60b-472f-4ea5-a0bb-238178535426",
   "metadata": {},
   "outputs": [
    {
     "data": {
      "text/plain": [
       "9300"
      ]
     },
     "execution_count": 11,
     "metadata": {},
     "output_type": "execute_result"
    }
   ],
   "source": [
    "test_directory = {\n",
    "    \"document1.pdf\": 500,\n",
    "    \"document2.docx\": 750,\n",
    "    \"project\": {\n",
    "        \"report.txt\": 300,\n",
    "        \"data\": {\n",
    "            \"data1.csv\": 400,\n",
    "            \"data2.csv\": 600,\n",
    "            \"raw\": {\n",
    "                \"raw1.log\": 100,\n",
    "                \"raw2.log\": 200\n",
    "            }\n",
    "        },\n",
    "        \"summary.pdf\": 700\n",
    "    },\n",
    "    \"photos\": {\n",
    "        \"photo1.jpg\": 1200,\n",
    "        \"photo2.jpg\": 950,\n",
    "        \"albums\": {\n",
    "            \"vacation\": {\n",
    "                \"beach.png\": 800,\n",
    "                \"mountains.png\": 900\n",
    "            },\n",
    "            \"family\": {\n",
    "                \"birthday.jpg\": 700,\n",
    "                \"wedding.jpg\": 1100\n",
    "            }\n",
    "        }\n",
    "    },\n",
    "    \"readme.txt\": 100\n",
    "}\n",
    "calculate_directory_size(test_directory)"
   ]
  },
  {
   "cell_type": "markdown",
   "id": "bfc2cb8f-a407-406f-bdad-34dba2b49096",
   "metadata": {},
   "source": [
    "#### Task 1 - Coin Change Problem:\n",
    "Scenario: Given a set of coin denominations and a target amount, find the minimum number\n",
    "of coins needed to make the amount. If it’s not possible, return - 1.\n",
    "Task:\n",
    "1. Write a function min_coins(coins, amount) that:\n",
    "• Uses DP to calculate the minimum number of coins needed to make up the\n",
    "amount.\n",
    "2. Test with coins = [1, 2, 5] and amount = 11. The result should be 3 (using coins\n",
    "[5, 5, 1]).\n"
   ]
  },
  {
   "cell_type": "code",
   "execution_count": 12,
   "id": "2de8480b-644a-4ec0-b85f-cf16e3f4691b",
   "metadata": {},
   "outputs": [
    {
     "data": {
      "text/plain": [
       "3"
      ]
     },
     "execution_count": 12,
     "metadata": {},
     "output_type": "execute_result"
    }
   ],
   "source": [
    "def min_coins(coins, amount):\n",
    "    \"\"\"\n",
    "    Finds the minimum number of coins needed to make up a given amount using dynamic\n",
    "    programming.\n",
    "    This function solves the coin change problem by determining the fewest number of\n",
    "    coins from a given set of coin denominations that sum up to a target amount. The\n",
    "    solution uses dynamic programming(tabulation) to iteratively build up the minimum\n",
    "    number of coins required for each amount.\n",
    "    Parameters:\n",
    "    coins (list of int): A list of coin denominations available for making change. Each\n",
    "    coin denomination is a positive integer.\n",
    "    amount (int): The target amount for which we need to find the minimum number of coins\n",
    "    . It must be a non-negative integer.\n",
    "    Returns:\n",
    "    int: The minimum number of coins required to make the given amount.\n",
    "    If it is not possible to make the amount with the given coins, returns -1.\n",
    "    Example:\n",
    "    >>> min_coins([1, 2, 5], 11)\n",
    "    3\n",
    "    >>> min_coins([2], 3)\n",
    "    -1\n",
    "    \"\"\"\n",
    "    dp = [float('inf')] * (amount + 1)\n",
    "    dp[0] = 0\n",
    "    for coin in coins:\n",
    "        for i in range(coin, amount + 1):\n",
    "            dp[i] = min(dp[i], dp[i - coin] + 1)\n",
    "    return dp[amount] if dp[amount] != float('inf') else -1\n",
    "\n",
    "min_coins([1,2,5], 11)"
   ]
  },
  {
   "cell_type": "markdown",
   "id": "e3cd8291-9f35-4bd3-b0b5-cc1b51147585",
   "metadata": {},
   "source": [
    "### Task 2 - Longest Common Subsequence (LCS):\n",
    "Scenario: Given two strings, find the length of their longest common subsequence (LCS).\n",
    "This is useful in text comparison.\n",
    "Task:\n",
    "1. Write a function longest_common_subsequence(s1, s2) that:\n",
    "• Uses DP to find the length of the LCS of two strings s1 and s2.\n",
    "2. Test with strings like \"abcde\" and \"ace\"; the LCS length should be 3 (\"ace\").\n"
   ]
  },
  {
   "cell_type": "code",
   "execution_count": 13,
   "id": "c01abe8f-11fe-41a4-b743-aed1617ad81e",
   "metadata": {},
   "outputs": [
    {
     "name": "stdout",
     "output_type": "stream",
     "text": [
      "The LCS of two string abcde and ace is: (ace) with length 3.\n"
     ]
    }
   ],
   "source": [
    "def longest_common_subsequence(s1,s2):\n",
    "    new_list = []\n",
    "    s1_list = [s for s in s1]\n",
    "    s2_list = [s for s in s2]\n",
    "    for i in s1_list:\n",
    "        for j in s2_list:\n",
    "            if i == j:\n",
    "                new_list.append(i)\n",
    "            else:\n",
    "                continue\n",
    "\n",
    "    length = len(new_list)\n",
    "    string = ''\n",
    "    print(f\"The LCS of two string {s1} and {s2} is: ({string.join(new_list)}) with length {length}.\") \n",
    "\n",
    "longest_common_subsequence(\"abcde\", \"ace\");"
   ]
  },
  {
   "cell_type": "markdown",
   "id": "e231c70e-fd4e-47c4-8426-f00a2f8199e2",
   "metadata": {},
   "source": [
    "#### Task 3 - 0/1 Knapsack Problem:\n",
    "Scenario: You have a list of items, each with a weight and a value. Given a weight capacity,\n",
    "maximize the total value of items you can carry without exceeding the weight capacity.\n",
    "Task:\n",
    "1. Write a function knapsack(weights, values, capacity) that:\n",
    "• Uses DP to determine the maximum value that can be achieved within the given\n",
    "weight capacity.\n",
    "2. Test with weights [1, 3, 4, 5], values [1, 4, 5, 7], and capacity 7. The result should be 9."
   ]
  },
  {
   "cell_type": "code",
   "execution_count": 14,
   "id": "0eaab6b1-1e28-4af1-b4cf-610e7a999e49",
   "metadata": {},
   "outputs": [
    {
     "name": "stdout",
     "output_type": "stream",
     "text": [
      "6\n"
     ]
    }
   ],
   "source": [
    "def knapsack(weights, values, capacity):\n",
    "    sum_of_weight = 0\n",
    "    answer = 0\n",
    "    for i in weights:\n",
    "        for j in weights:\n",
    "            i_index = weights.index(i)\n",
    "            j_index = weights.index(j)\n",
    "            if i + j == capacity:\n",
    "                return values[i_index]+values[j_index]\n",
    "            elif i + j <= capacity:\n",
    "                if i + j > sum_of_weight:\n",
    "                    answer = values[i_index] + values[j_index]\n",
    "                else:\n",
    "                    continue\n",
    "            else:\n",
    "                continue\n",
    "    return answer\n",
    "                \n",
    "    \n",
    "\n",
    "weight = [1,3,5,8]\n",
    "value = [1,4,5,7]\n",
    "capacity = 7\n",
    "print(knapsack(weight, value, capacity))"
   ]
  },
  {
   "cell_type": "code",
   "execution_count": null,
   "id": "e253a881-fb76-4c8e-8dd8-f1e1f9b9fe43",
   "metadata": {},
   "outputs": [],
   "source": []
  }
 ],
 "metadata": {
  "kernelspec": {
   "display_name": "Python 3 (ipykernel)",
   "language": "python",
   "name": "python3"
  },
  "language_info": {
   "codemirror_mode": {
    "name": "ipython",
    "version": 3
   },
   "file_extension": ".py",
   "mimetype": "text/x-python",
   "name": "python",
   "nbconvert_exporter": "python",
   "pygments_lexer": "ipython3",
   "version": "3.11.9"
  }
 },
 "nbformat": 4,
 "nbformat_minor": 5
}
